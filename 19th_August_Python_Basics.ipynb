{
 "cells": [
  {
   "cell_type": "raw",
   "id": "a6178f24-7cad-452f-a71f-8557c99de329",
   "metadata": {},
   "source": [
    "1) Declare two variables, `x` and `y`, and assign them integer values. Swap the\n",
    "values of these variables without using any temporary variable."
   ]
  },
  {
   "cell_type": "code",
   "execution_count": 5,
   "id": "b975c2f6-b762-4ec4-a1a8-5417c91028b2",
   "metadata": {},
   "outputs": [
    {
     "name": "stdout",
     "output_type": "stream",
     "text": [
      "x= 4   y= 5\n"
     ]
    }
   ],
   "source": [
    "x=5#input1\n",
    "y=4#input2\n",
    "x=x+y\n",
    "y=x-y\n",
    "x=x-y\n",
    "print(\"x=\",x,\" \",\"y=\",y)"
   ]
  },
  {
   "cell_type": "raw",
   "id": "ec41c7ad-ffce-4e6a-acff-4b8e230fad9e",
   "metadata": {},
   "source": [
    "2) Create a program that calculates the area of a rectangle. Take the length and\n",
    "width as inputs from the user and store them in variables. Calculate and\n",
    "display the area."
   ]
  },
  {
   "cell_type": "code",
   "execution_count": 7,
   "id": "16061bcb-3c52-4022-9590-f228650b998f",
   "metadata": {},
   "outputs": [
    {
     "name": "stdin",
     "output_type": "stream",
     "text": [
      " 8\n",
      " 6\n"
     ]
    },
    {
     "name": "stdout",
     "output_type": "stream",
     "text": [
      "area of rectangle is 48\n"
     ]
    }
   ],
   "source": [
    "l=int(input())#length of a rectangle\n",
    "w=int(input())#width of a rectange\n",
    "area=l*w\n",
    "print(\"area of rectangle is\",area)\n"
   ]
  },
  {
   "cell_type": "raw",
   "id": "8a3d9b0d-46f7-492e-a5a5-bdce7f4f0307",
   "metadata": {},
   "source": [
    "3) Write a Python program that converts temperatures from Celsius to\n",
    "Fahrenheit. Take the temperature in Celsius as input, store it in a variable,\n",
    "convert it to Fahrenheit, and display the result."
   ]
  },
  {
   "cell_type": "code",
   "execution_count": 9,
   "id": "e5710060-518e-4598-a33e-f35cb42673a3",
   "metadata": {},
   "outputs": [
    {
     "name": "stdin",
     "output_type": "stream",
     "text": [
      "Enter temperature in Celsius:  47\n"
     ]
    },
    {
     "name": "stdout",
     "output_type": "stream",
     "text": [
      "47.0 degrees Celsius is equal to 116.6 degrees Fahrenheit\n"
     ]
    }
   ],
   "source": [
    "# Taking the temperature in Celsius as input\n",
    "celsius = float(input(\"Enter temperature in Celsius: \"))\n",
    "\n",
    "# Converting Celsius to Fahrenheit\n",
    "fahrenheit = (celsius * 9/5) + 32\n",
    "\n",
    "# Displaying the result\n",
    "print(celsius,\"degrees Celsius is equal to\",fahrenheit,\"degrees Fahrenheit\")"
   ]
  },
  {
   "cell_type": "raw",
   "id": "11c41332-735b-43da-ba98-bec8d3c3e21d",
   "metadata": {},
   "source": [
    "String Based Questions"
   ]
  },
  {
   "cell_type": "raw",
   "id": "87021441-9a93-4caf-bdad-4d78dcc7ffd9",
   "metadata": {},
   "source": [
    "1) Write a Python program that takes a string as input and prints the length of\n",
    "the string."
   ]
  },
  {
   "cell_type": "code",
   "execution_count": 11,
   "id": "8e053edf-89b9-41e9-9062-10b57524a518",
   "metadata": {},
   "outputs": [
    {
     "name": "stdin",
     "output_type": "stream",
     "text": [
      " aditayverdhansahai\n"
     ]
    },
    {
     "name": "stdout",
     "output_type": "stream",
     "text": [
      "18\n"
     ]
    }
   ],
   "source": [
    "strr=input()#user string input\n",
    "length_of_string=len(strr)#calculates length of the string\n",
    "print(length_of_string)"
   ]
  },
  {
   "cell_type": "raw",
   "id": "3490ba9b-385d-412b-b223-e3645b5d8f81",
   "metadata": {},
   "source": [
    "2) Create a program that takes a sentence from the user and counts the number\n",
    "of vowels (a, e, i, o, u) in the string."
   ]
  },
  {
   "cell_type": "code",
   "execution_count": 13,
   "id": "692cfb57-e27b-41dd-a6df-c19a6fc3b0db",
   "metadata": {},
   "outputs": [
    {
     "name": "stdin",
     "output_type": "stream",
     "text": [
      "Enter a sentence:  adityverdhbjim\n"
     ]
    },
    {
     "name": "stdout",
     "output_type": "stream",
     "text": [
      "Number of vowels in the sentence: 4\n"
     ]
    }
   ],
   "source": [
    "sentence = input(\"Enter a sentence: \")\n",
    "                 \n",
    "vowels = \"aeiouAEIOU\"\n",
    "\n",
    "# Initialize a count for vowels\n",
    "vowel_count = 0\n",
    "\n",
    "# Count the number of vowels in the sentence\n",
    "for char in sentence:\n",
    "    if char in vowels:\n",
    "        vowel_count += 1\n",
    "\n",
    "# Display the result\n",
    "print(\"Number of vowels in the sentence:\", vowel_count)"
   ]
  },
  {
   "cell_type": "raw",
   "id": "18a84776-6951-48c2-af08-0f9a40805833",
   "metadata": {},
   "source": [
    "3) Given a string, reverse the order of characters using string slicing and print\n",
    "the reversed string."
   ]
  },
  {
   "cell_type": "code",
   "execution_count": 14,
   "id": "49b411de-31f9-4357-a52d-14503818871f",
   "metadata": {},
   "outputs": [
    {
     "name": "stdin",
     "output_type": "stream",
     "text": [
      "Enter a string:  python is fun\n"
     ]
    },
    {
     "name": "stdout",
     "output_type": "stream",
     "text": [
      "Reversed string: nuf si nohtyp\n"
     ]
    }
   ],
   "source": [
    "original_string = input(\"Enter a string: \")# Take a string from the user\n",
    "\n",
    "\n",
    "reversed_string = original_string[::-1]# Reverse the string using slicing\n",
    "\n",
    "\n",
    "print(\"Reversed string:\", reversed_string)# Display the reversed string\n"
   ]
  },
  {
   "cell_type": "raw",
   "id": "23a761f2-c67c-4618-a2ba-ae8149d5baf7",
   "metadata": {},
   "source": [
    "4) Write a program that takes a string as input and checks if it is a palindrome\n",
    "(reads the same forwards and backwards)."
   ]
  },
  {
   "cell_type": "code",
   "execution_count": 15,
   "id": "da40d37c-277b-4dae-8305-7466deb69017",
   "metadata": {},
   "outputs": [
    {
     "name": "stdin",
     "output_type": "stream",
     "text": [
      "Enter a string:  malayalam\n"
     ]
    },
    {
     "name": "stdout",
     "output_type": "stream",
     "text": [
      "The entered string is a palindrome.\n"
     ]
    }
   ],
   "source": [
    "string = input(\"Enter a string: \")# Take a string from the user\n",
    "\n",
    "string = string.replace(\" \", \"\").lower()# Remove spaces and convert to lowercase for comparison\n",
    "\n",
    "\n",
    "\n",
    "if string == string[::-1]:# Check if the string is a palindrome\n",
    "    print(\"The entered string is a palindrome.\")\n",
    "else:\n",
    "    print(\"The entered string is not a palindrome.\")\n"
   ]
  },
  {
   "cell_type": "raw",
   "id": "8f08ad12-4003-4e30-b255-47b0348fd3ea",
   "metadata": {},
   "source": [
    "5) Create a program that takes a string as input and removes all the spaces from\n",
    "it. Print the modified string without spaces."
   ]
  },
  {
   "cell_type": "code",
   "execution_count": 16,
   "id": "cea85488-61b5-4a59-b1f4-636becae6026",
   "metadata": {},
   "outputs": [
    {
     "name": "stdin",
     "output_type": "stream",
     "text": [
      "Enter a string:  the amplifiers is a band width.\n"
     ]
    },
    {
     "name": "stdout",
     "output_type": "stream",
     "text": [
      "String without spaces: theamplifiersisabandwidth.\n"
     ]
    }
   ],
   "source": [
    "string = input(\"Enter a string: \")# Take a string from the user\n",
    "\n",
    "string_without_space = string.replace(\" \", \"\")# Remove spaces from the string\n",
    "\n",
    "print(\"String without spaces:\", string_without_space)\n",
    "\n"
   ]
  },
  {
   "cell_type": "code",
   "execution_count": null,
   "id": "87bee348-3710-44b3-a199-5ef921a9e8b3",
   "metadata": {},
   "outputs": [],
   "source": []
  }
 ],
 "metadata": {
  "kernelspec": {
   "display_name": "Python 3 (ipykernel)",
   "language": "python",
   "name": "python3"
  },
  "language_info": {
   "codemirror_mode": {
    "name": "ipython",
    "version": 3
   },
   "file_extension": ".py",
   "mimetype": "text/x-python",
   "name": "python",
   "nbconvert_exporter": "python",
   "pygments_lexer": "ipython3",
   "version": "3.10.8"
  }
 },
 "nbformat": 4,
 "nbformat_minor": 5
}
